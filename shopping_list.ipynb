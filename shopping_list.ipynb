{
 "cells": [
  {
   "cell_type": "code",
   "execution_count": 10,
   "id": "c11b2de0",
   "metadata": {},
   "outputs": [],
   "source": [
    "def lines():\n",
    "\tprint(\"-\"*50)\n",
    "\n",
    "shop_list = []"
   ]
  },
  {
   "cell_type": "code",
   "execution_count": 11,
   "id": "2821ab4e",
   "metadata": {},
   "outputs": [
    {
     "name": "stdout",
     "output_type": "stream",
     "text": [
      "What would you like to do?\n",
      "(Add/Remove/Quit): add\n",
      "What would you like to add? orange\n",
      "How many would you like? 34\n",
      "How much is each Orange? .33\n",
      "What would you like to do?\n",
      "(Add/Remove/Quit): add\n",
      "What would you like to add? apple\n",
      "How many would you like? 15\n",
      "How much is each Apple? .22\n",
      "What would you like to do?\n",
      "(Add/Remove/Quit): quit\n",
      "--------------------------------------------------\n",
      "Here is your receipt:\n",
      "\n",
      "Orange:\n",
      "\tPrice Per: $0.33  -  Qty: 34  -  Total: $11.22\n",
      "\t\tTotal Cost: $0\n",
      "Apple:\n",
      "\tPrice Per: $0.22  -  Qty: 15  -  Total: $3.3\n",
      "\t\tTotal Cost: $0\n",
      "--------------------------------------------------\n",
      "[{'item': 'orange', 'qty': 34, 'price': 0.33, 'total': 11.22}, {'item': 'apple', 'qty': 15, 'price': 0.22, 'total': 3.3}]\n"
     ]
    },
    {
     "ename": "NameError",
     "evalue": "name 'total_cost' is not defined",
     "output_type": "error",
     "traceback": [
      "\u001b[1;31m---------------------------------------------------------------------------\u001b[0m",
      "\u001b[1;31mNameError\u001b[0m                                 Traceback (most recent call last)",
      "Input \u001b[1;32mIn [11]\u001b[0m, in \u001b[0;36m<cell line: 47>\u001b[1;34m()\u001b[0m\n\u001b[0;32m     45\u001b[0m lines()\n\u001b[0;32m     46\u001b[0m \u001b[38;5;28mprint\u001b[39m(shop_list)\n\u001b[1;32m---> 47\u001b[0m \u001b[38;5;28mprint\u001b[39m(\u001b[43mtotal_cost\u001b[49m)\n",
      "\u001b[1;31mNameError\u001b[0m: name 'total_cost' is not defined"
     ]
    }
   ],
   "source": [
    "def go_shopping():\n",
    "\tshopping = True\n",
    "\twhile True:\n",
    "\t\tshop_dict = {}\n",
    "\t\ttotal_cost = 0\n",
    "\t\task = input(\"What would you like to do?\\n(Add/Remove/Quit): \")\n",
    "\t\n",
    "\t\tif ask.lower() == 'quit':\n",
    "\t\t\tlines()\n",
    "\t\t\tprint(\"Here is your receipt:\\n\")\n",
    "\t\t\tfor shop_dict in shop_list:\n",
    "\t\t\t\tprint(f\"{shop_dict['item'].title()}:\\n\\tPrice Per: ${shop_dict['price']}  -  Qty: {shop_dict['qty']}  -  Total: ${round(shop_dict['total'], 2)}\\n\\t\\tTotal Cost: ${total_cost}\")\n",
    "\t\t\tbreak\n",
    "\t\t\n",
    "\t\telif ask.lower() == 'remove':\n",
    "\t\t\tremove_item = input(\"Which item would you like removed? \")\n",
    "\t\t\tfor shop_dict in shop_list:\n",
    "\t\t\t\tif remove_item.lower() not in shop_dict.values():\n",
    "\t\t\t\t\tprint(\"That item is not in your cart\")\n",
    "\t\t\t\telse:\n",
    "\t\t\t\t\tremove_amount = input(\"How many would you like to remove?\\n(enter All to clear all): \")\n",
    "\t\t\t\t\t# ~ for shop_dict['qty'] in shop_list:\n",
    "\t\t\t\t\tif remove_amount.lower() == 'all':\n",
    "\t\t\t\t\t\tshop_dict['qty'] = 0\n",
    "\t\t\t\t\t\tif shop_dict['qty'] == 0:\n",
    "\t\t\t\t\t\t\tdel shop_dict\n",
    "\t\t\t\t\telse:\n",
    "\t\t\t\t\t\tshop_dict['qty'] -= int(remove_amount)\n",
    "\t\n",
    "\t\telif ask.lower() == 'add':\n",
    "\t\t\tshop_dict['item'] = input(\"What would you like to add? \")\n",
    "\t\t\tfor key in shop_dict.keys():\n",
    "\t\t\t\tif shop_dict['item'].lower() in shop_dict.keys():\n",
    "\t\t\t\t\tprint(\"That item is already in your cart.\")\n",
    "\t\t\tshop_dict['qty'] = int(input(\"How many would you like? \"))\n",
    "\t\t\tshop_dict['price'] = float(input(f\"How much is each {shop_dict['item'].title()}? \"))\n",
    "\t\t\tshop_dict['total'] = round(shop_dict['price'] * shop_dict['qty'], 2)\n",
    "\t\t\ttotal_cost += shop_dict['total']\n",
    "\t\t\tshop_list.append(shop_dict)\n",
    "\t\n",
    "\t\t\n",
    "go_shopping()\n",
    "\t\t\n",
    "\n",
    "lines()\n",
    "print(shop_list)\n",
    "print(total_cost)\n"
   ]
  }
 ],
 "metadata": {
  "kernelspec": {
   "display_name": "Python 3 (ipykernel)",
   "language": "python",
   "name": "python3"
  },
  "language_info": {
   "codemirror_mode": {
    "name": "ipython",
    "version": 3
   },
   "file_extension": ".py",
   "mimetype": "text/x-python",
   "name": "python",
   "nbconvert_exporter": "python",
   "pygments_lexer": "ipython3",
   "version": "3.9.12"
  }
 },
 "nbformat": 4,
 "nbformat_minor": 5
}
